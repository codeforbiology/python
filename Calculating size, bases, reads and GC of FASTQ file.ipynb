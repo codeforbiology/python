{
  "nbformat": 4,
  "nbformat_minor": 0,
  "metadata": {
    "colab": {
      "provenance": [],
      "authorship_tag": "ABX9TyOQbmccRVP58CKa+ykVE1ZN",
      "include_colab_link": true
    },
    "kernelspec": {
      "name": "python3",
      "display_name": "Python 3"
    },
    "language_info": {
      "name": "python"
    }
  },
  "cells": [
    {
      "cell_type": "markdown",
      "metadata": {
        "id": "view-in-github",
        "colab_type": "text"
      },
      "source": [
        "<a href=\"https://colab.research.google.com/github/codeforbiology/python/blob/main/Calculating%20size%2C%20bases%2C%20reads%20and%20GC%20of%20FASTQ%20file.ipynb\" target=\"_parent\"><img src=\"https://colab.research.google.com/assets/colab-badge.svg\" alt=\"Open In Colab\"/></a>"
      ]
    },
    {
      "cell_type": "code",
      "source": [
        "import os\n",
        "import gzip\n",
        "from Bio import SeqIO\n",
        "\n",
        "# Set the path to your uploaded file (modify this if needed)\n",
        "file_path = \"/content/AbS_S1_L001_R1_001.fastq.gz\"  # Change this to match your uploaded file\n",
        "\n",
        "def fastq_stats(file_path):\n",
        "    \"\"\"Calculates total reads, bases, GC%, and file size from a FASTQ file.\"\"\"\n",
        "    is_gzipped = file_path.endswith(\".gz\")\n",
        "    open_func = gzip.open if is_gzipped else open\n",
        "\n",
        "    total_reads = 0\n",
        "    total_bases = 0\n",
        "    gc_count = 0\n",
        "\n",
        "    with open_func(file_path, \"rt\") as handle:\n",
        "        for record in SeqIO.parse(handle, \"fastq\"):\n",
        "            seq = record.seq\n",
        "            total_reads += 1\n",
        "            total_bases += len(seq)\n",
        "            gc_count += seq.count('G') + seq.count('C')\n",
        "\n",
        "    # Compute GC percentage\n",
        "    gc_percentage = (gc_count / total_bases) * 100 if total_bases > 0 else 0\n",
        "\n",
        "    # Get file size in MB\n",
        "    file_size = os.path.getsize(file_path) / (1024 * 1024)  # Convert bytes to MB\n",
        "\n",
        "    # Print results\n",
        "    print(f\"\\nFile: {file_path}\")\n",
        "    print(f\"Total Reads: {total_reads}\")\n",
        "    print(f\"Total Bases: {total_bases}\")\n",
        "    print(f\"GC%: {gc_percentage:.2f}%\")\n",
        "    print(f\"File Size: {file_size:.2f} MB\")\n",
        "\n",
        "# Run the function\n",
        "fastq_stats(file_path)\n"
      ],
      "metadata": {
        "colab": {
          "base_uri": "https://localhost:8080/"
        },
        "id": "q7e759GLhNb0",
        "outputId": "d410e551-65e4-4d16-fb34-157460277f3d"
      },
      "execution_count": 7,
      "outputs": [
        {
          "output_type": "stream",
          "name": "stdout",
          "text": [
            "\n",
            "File: /content/AbS_S1_L001_R1_001.fastq.gz\n",
            "Total Reads: 1413135\n",
            "Total Bases: 341665999\n",
            "GC%: 37.10%\n",
            "File Size: 269.95 MB\n"
          ]
        }
      ]
    },
    {
      "cell_type": "code",
      "source": [
        "import os\n",
        "import gzip\n",
        "from Bio import SeqIO\n",
        "\n",
        "# Set the path to your uploaded file (modify this if needed)\n",
        "file_path = \"/content/AbS_S1_L001_R2_001.fastq.gz\"  # Change this to match your uploaded file\n",
        "\n",
        "def fastq_stats(file_path):\n",
        "    \"\"\"Calculates total reads, bases, GC%, and file size from a FASTQ file.\"\"\"\n",
        "    is_gzipped = file_path.endswith(\".gz\")\n",
        "    open_func = gzip.open if is_gzipped else open\n",
        "\n",
        "    total_reads = 0\n",
        "    total_bases = 0\n",
        "    gc_count = 0\n",
        "\n",
        "    with open_func(file_path, \"rt\") as handle:\n",
        "        for record in SeqIO.parse(handle, \"fastq\"):\n",
        "            seq = record.seq\n",
        "            total_reads += 1\n",
        "            total_bases += len(seq)\n",
        "            gc_count += seq.count('G') + seq.count('C')\n",
        "\n",
        "    # Compute GC percentage\n",
        "    gc_percentage = (gc_count / total_bases) * 100 if total_bases > 0 else 0\n",
        "\n",
        "    # Get file size in MB\n",
        "    file_size = os.path.getsize(file_path) / (1024 * 1024)  # Convert bytes to MB\n",
        "\n",
        "    # Print results\n",
        "    print(f\"\\nFile: {file_path}\")\n",
        "    print(f\"Total Reads: {total_reads}\")\n",
        "    print(f\"Total Bases: {total_bases}\")\n",
        "    print(f\"GC%: {gc_percentage:.2f}%\")\n",
        "    print(f\"File Size: {file_size:.2f} MB\")\n",
        "\n",
        "# Run the function\n",
        "fastq_stats(file_path)\n"
      ],
      "metadata": {
        "colab": {
          "base_uri": "https://localhost:8080/"
        },
        "id": "z44a3yjkhhWa",
        "outputId": "5228d9e0-9de3-48ef-b351-353fb772c5fc"
      },
      "execution_count": 8,
      "outputs": [
        {
          "output_type": "stream",
          "name": "stdout",
          "text": [
            "\n",
            "File: /content/AbS_S1_L001_R2_001.fastq.gz\n",
            "Total Reads: 1413135\n",
            "Total Bases: 341778746\n",
            "GC%: 37.29%\n",
            "File Size: 301.83 MB\n"
          ]
        }
      ]
    }
  ]
}